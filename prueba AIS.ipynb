{
 "cells": [
  {
   "cell_type": "markdown",
   "id": "997a24d5",
   "metadata": {},
   "source": [
    "## 1. cargar datos y verificación "
   ]
  },
  {
   "cell_type": "code",
   "execution_count": null,
   "id": "f6f52cdd",
   "metadata": {},
   "outputs": [],
   "source": [
    "# primer data frame\n",
    "import pandas as pd \n",
    "import numpy as np\n",
    "CLIENTES_01 = pd.DataFrame()\n",
    "CLIENTES_01 = pd.read_csv('CLIENTES_01.csv',delimiter= ';',index_col=0)\n",
    "CLIENTES_01.head()"
   ]
  },
  {
   "cell_type": "code",
   "execution_count": null,
   "id": "11dfd307",
   "metadata": {},
   "outputs": [],
   "source": [
    "# segundo data frame\n",
    "CLIENTES_02 = pd.DataFrame()\n",
    "CLIENTES_02 = pd.read_csv('CLIENTES_02.csv',delimiter= ';',index_col=0)\n",
    "CLIENTES_02.head()"
   ]
  },
  {
   "cell_type": "markdown",
   "id": "13333eaa",
   "metadata": {},
   "source": [
    "### vericar tamaño de cada data frame"
   ]
  },
  {
   "cell_type": "code",
   "execution_count": null,
   "id": "fde112b3",
   "metadata": {},
   "outputs": [],
   "source": [
    "CLIENTES_01.shape\n"
   ]
  },
  {
   "cell_type": "code",
   "execution_count": null,
   "id": "e570d4ec",
   "metadata": {},
   "outputs": [],
   "source": [
    "CLIENTES_02.shape"
   ]
  },
  {
   "cell_type": "markdown",
   "id": "957b3260",
   "metadata": {},
   "source": [
    "### Unión de data frame"
   ]
  },
  {
   "cell_type": "code",
   "execution_count": null,
   "id": "ed8da009",
   "metadata": {},
   "outputs": [],
   "source": [
    "CLIENTES03 = pd.merge(CLIENTES_01,CLIENTES_02, on='ID_PERSONA')"
   ]
  },
  {
   "cell_type": "code",
   "execution_count": null,
   "id": "44238d7b",
   "metadata": {},
   "outputs": [],
   "source": [
    "CLIENTES03.head()"
   ]
  },
  {
   "cell_type": "code",
   "execution_count": null,
   "id": "cad4160c",
   "metadata": {},
   "outputs": [],
   "source": [
    "CLIENTES03.shape"
   ]
  },
  {
   "cell_type": "markdown",
   "id": "c759c989",
   "metadata": {},
   "source": [
    "## 2. Construcción y análisis de varibale"
   ]
  },
  {
   "cell_type": "code",
   "execution_count": null,
   "id": "98450ddb",
   "metadata": {},
   "outputs": [],
   "source": [
    "def RAT_AP(dataframe: pd.DataFrame) -> pd.Series:\n",
    "    return (dataframe[\"PAS_CIRCULANTE\"] + dataframe[\"PAS_LARGO_PLAZO\"]) / dataframe[\"CAPITAL\"]\n",
    "                     \n",
    "CLIENTES03['RAT_AP'] = RAT_AP(dataframe=CLIENTES03)"
   ]
  },
  {
   "cell_type": "markdown",
   "id": "f74fb14a",
   "metadata": {},
   "source": [
    "## Análisis estadistico"
   ]
  },
  {
   "cell_type": "code",
   "execution_count": null,
   "id": "3314ce5b",
   "metadata": {},
   "outputs": [],
   "source": [
    "CLIENTES03.describe()"
   ]
  },
  {
   "cell_type": "markdown",
   "id": "020aea69",
   "metadata": {},
   "source": [
    "## gráficos"
   ]
  },
  {
   "cell_type": "code",
   "execution_count": null,
   "id": "2d110c5e",
   "metadata": {},
   "outputs": [],
   "source": [
    "import matplotlib.pyplot as plt\n",
    "from matplotlib import style\n",
    "import seaborn as sns"
   ]
  },
  {
   "cell_type": "code",
   "execution_count": null,
   "id": "8463a0d7",
   "metadata": {},
   "outputs": [],
   "source": [
    "fig, ax = plt.subplots(figsize=(10, 6))\n",
    "\n",
    "sns.violinplot(\n",
    "        x     = 'MORA',\n",
    "        y     = 'CAPITAL',\n",
    "        data  = CLIENTES03,\n",
    "        #color = \"white\",\n",
    "        ax    = ax\n",
    "    )\n",
    "\n",
    "ax.set_title('Distribución del capital según estado de MORA');"
   ]
  },
  {
   "cell_type": "markdown",
   "id": "2daba145",
   "metadata": {},
   "source": [
    "## MODELO "
   ]
  },
  {
   "cell_type": "code",
   "execution_count": null,
   "id": "23d1d546",
   "metadata": {},
   "outputs": [],
   "source": [
    "import statsmodels.api as sm\n",
    "import statsmodels.formula.api as smf\n",
    "from statsmodels.stats.weightstats import ttest_ind\n",
    "from sklearn.linear_model import LogisticRegression\n",
    "from sklearn.model_selection import train_test_split\n",
    "from sklearn.metrics import accuracy_score\n",
    "from sklearn.metrics import plot_confusion_matrix"
   ]
  },
  {
   "cell_type": "markdown",
   "id": "aa4aa176",
   "metadata": {},
   "source": [
    "### normalizar datos para mejora del modelo "
   ]
  },
  {
   "cell_type": "code",
   "execution_count": null,
   "id": "12f2e3c2",
   "metadata": {},
   "outputs": [],
   "source": [
    "def minmax_norm(DataFrame):\n",
    "    return (DataFrame - DataFrame.min()) / ( DataFrame.max() - DataFrame.min())\n",
    "\n",
    "CLIENTES03_norm = minmax_norm(CLIENTES03)\n",
    "\n",
    "CLIENTES03_norm"
   ]
  },
  {
   "cell_type": "code",
   "execution_count": null,
   "id": "4416b4ca",
   "metadata": {},
   "outputs": [],
   "source": [
    "## VARIABLES \n",
    "X = CLIENTES03_norm.drop(columns = 'MORA')\n",
    "y = CLIENTES03_norm['MORA']\n",
    "\n",
    "X_train, X_test, y_train, y_test = train_test_split(\n",
    "                                        X,\n",
    "                                        y.values.reshape(-1,1),\n",
    "                                        train_size   = 0.8,\n",
    "                                        random_state = 1234,\n",
    "                                        shuffle      = True\n",
    "                                    )"
   ]
  },
  {
   "cell_type": "code",
   "execution_count": null,
   "id": "559a3dd7",
   "metadata": {},
   "outputs": [],
   "source": [
    "X_train = sm.add_constant(X_train, prepend=True)\n",
    "modelo = sm.Logit(endog=y_train, exog=X_train,)\n",
    "modelo = modelo.fit()\n",
    "print(modelo.summary())"
   ]
  }
 ],
 "metadata": {
  "kernelspec": {
   "display_name": "Python 3 (ipykernel)",
   "language": "python",
   "name": "python3"
  },
  "language_info": {
   "codemirror_mode": {
    "name": "ipython",
    "version": 3
   },
   "file_extension": ".py",
   "mimetype": "text/x-python",
   "name": "python",
   "nbconvert_exporter": "python",
   "pygments_lexer": "ipython3",
   "version": "3.9.12"
  }
 },
 "nbformat": 4,
 "nbformat_minor": 5
}
